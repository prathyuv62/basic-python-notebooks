{
 "cells": [
  {
   "cell_type": "code",
   "execution_count": 1,
   "metadata": {},
   "outputs": [],
   "source": [
    "dishes=['puuro','rice','lamb','curry','chicken','sweet','juice','prawns','poori','mushroom']"
   ]
  },
  {
   "cell_type": "code",
   "execution_count": 2,
   "metadata": {},
   "outputs": [],
   "source": [
    "dishes.append('idli')"
   ]
  },
  {
   "cell_type": "code",
   "execution_count": 3,
   "metadata": {},
   "outputs": [
    {
     "name": "stdout",
     "output_type": "stream",
     "text": [
      "['puuro', 'rice', 'lamb', 'curry', 'chicken', 'sweet', 'juice', 'prawns', 'poori', 'mushroom', 'idli']\n"
     ]
    }
   ],
   "source": [
    "print(dishes)"
   ]
  },
  {
   "cell_type": "code",
   "execution_count": 4,
   "metadata": {},
   "outputs": [
    {
     "name": "stdout",
     "output_type": "stream",
     "text": [
      "['puuro', 'rice', 'lamb', 'curry', 'chicken', 'sweet', 'juice', 'prawns', 'poori', 'mushroom', 'idli', 'mashedpotato']\n"
     ]
    }
   ],
   "source": [
    "dishes.append('mashedpotato')\n",
    "print(dishes)"
   ]
  },
  {
   "cell_type": "code",
   "execution_count": 5,
   "metadata": {},
   "outputs": [],
   "source": [
    "dishes.insert(0,'shrimp')"
   ]
  },
  {
   "cell_type": "code",
   "execution_count": 6,
   "metadata": {},
   "outputs": [
    {
     "name": "stdout",
     "output_type": "stream",
     "text": [
      "['shrimp', 'puuro', 'rice', 'lamb', 'curry', 'chicken', 'sweet', 'juice', 'prawns', 'poori', 'mushroom', 'idli', 'mashedpotato']\n"
     ]
    }
   ],
   "source": [
    "print(dishes)"
   ]
  },
  {
   "cell_type": "code",
   "execution_count": 7,
   "metadata": {},
   "outputs": [],
   "source": [
    "dishes2=['cauliflower','dosa','leipä','pickle','kana','egg puff','samosa','bread','noodles','ladoo',]\n",
    "dishes.extend(dishes2)"
   ]
  },
  {
   "cell_type": "code",
   "execution_count": 8,
   "metadata": {},
   "outputs": [
    {
     "name": "stdout",
     "output_type": "stream",
     "text": [
      "['shrimp', 'puuro', 'rice', 'lamb', 'curry', 'chicken', 'sweet', 'juice', 'prawns', 'poori', 'mushroom', 'idli', 'mashedpotato', 'cauliflower', 'dosa', 'leipä', 'pickle', 'kana', 'egg puff', 'samosa', 'bread', 'noodles', 'ladoo']\n"
     ]
    }
   ],
   "source": [
    "print(dishes)"
   ]
  },
  {
   "cell_type": "code",
   "execution_count": 9,
   "metadata": {},
   "outputs": [
    {
     "data": {
      "text/plain": [
       "'shrimp'"
      ]
     },
     "execution_count": 9,
     "metadata": {},
     "output_type": "execute_result"
    }
   ],
   "source": [
    "dishes[0]"
   ]
  },
  {
   "cell_type": "code",
   "execution_count": 10,
   "metadata": {},
   "outputs": [],
   "source": [
    "dishes.insert(4,'tuna')"
   ]
  },
  {
   "cell_type": "code",
   "execution_count": 11,
   "metadata": {},
   "outputs": [
    {
     "name": "stdout",
     "output_type": "stream",
     "text": [
      "['shrimp', 'puuro', 'rice', 'lamb', 'tuna', 'curry', 'chicken', 'sweet', 'juice', 'prawns', 'poori', 'mushroom', 'idli', 'mashedpotato', 'cauliflower', 'dosa', 'leipä', 'pickle', 'kana', 'egg puff', 'samosa', 'bread', 'noodles', 'ladoo']\n"
     ]
    }
   ],
   "source": [
    "print(dishes)"
   ]
  },
  {
   "cell_type": "code",
   "execution_count": 12,
   "metadata": {},
   "outputs": [],
   "source": [
    "dishes.remove('rice')"
   ]
  },
  {
   "cell_type": "code",
   "execution_count": 13,
   "metadata": {},
   "outputs": [
    {
     "name": "stdout",
     "output_type": "stream",
     "text": [
      "['shrimp', 'puuro', 'lamb', 'tuna', 'curry', 'chicken', 'sweet', 'juice', 'prawns', 'poori', 'mushroom', 'idli', 'mashedpotato', 'cauliflower', 'dosa', 'leipä', 'pickle', 'kana', 'egg puff', 'samosa', 'bread', 'noodles', 'ladoo']\n"
     ]
    }
   ],
   "source": [
    "print(dishes)"
   ]
  },
  {
   "cell_type": "code",
   "execution_count": 16,
   "metadata": {},
   "outputs": [
    {
     "data": {
      "text/plain": [
       "'lamb'"
      ]
     },
     "execution_count": 16,
     "metadata": {},
     "output_type": "execute_result"
    }
   ],
   "source": [
    "dishes.pop()#if empty deletes last item of list\n",
    "dishes.pop(2)"
   ]
  },
  {
   "cell_type": "code",
   "execution_count": 17,
   "metadata": {},
   "outputs": [
    {
     "name": "stdout",
     "output_type": "stream",
     "text": [
      "['shrimp', 'puuro', 'tuna', 'curry', 'chicken', 'sweet', 'juice', 'prawns', 'poori', 'mushroom', 'idli', 'mashedpotato', 'cauliflower', 'dosa', 'leipä', 'pickle', 'kana', 'egg puff', 'samosa', 'bread']\n"
     ]
    }
   ],
   "source": [
    "print(dishes)"
   ]
  },
  {
   "cell_type": "code",
   "execution_count": 18,
   "metadata": {},
   "outputs": [
    {
     "data": {
      "text/plain": [
       "'curry'"
      ]
     },
     "execution_count": 18,
     "metadata": {},
     "output_type": "execute_result"
    }
   ],
   "source": [
    "dishes.pop(3)\n"
   ]
  },
  {
   "cell_type": "code",
   "execution_count": 20,
   "metadata": {},
   "outputs": [
    {
     "data": {
      "text/plain": [
       "'sweet'"
      ]
     },
     "execution_count": 20,
     "metadata": {},
     "output_type": "execute_result"
    }
   ],
   "source": [
    "dishes.pop(4)"
   ]
  },
  {
   "cell_type": "code",
   "execution_count": 21,
   "metadata": {},
   "outputs": [
    {
     "name": "stdout",
     "output_type": "stream",
     "text": [
      "bread\n"
     ]
    }
   ],
   "source": [
    "doggie_bag=dishes.pop()\n",
    "\n",
    "print(doggie_bag)"
   ]
  },
  {
   "cell_type": "code",
   "execution_count": 22,
   "metadata": {},
   "outputs": [
    {
     "name": "stdout",
     "output_type": "stream",
     "text": [
      "samosa\n"
     ]
    }
   ],
   "source": [
    "doggie_bag=dishes.pop()\n",
    "print(doggie_bag)"
   ]
  },
  {
   "cell_type": "code",
   "execution_count": 24,
   "metadata": {},
   "outputs": [
    {
     "name": "stdout",
     "output_type": "stream",
     "text": [
      "kana\n"
     ]
    }
   ],
   "source": [
    "doggie_bag=dishes.pop()\n",
    "print(doggie_bag)"
   ]
  },
  {
   "cell_type": "code",
   "execution_count": 26,
   "metadata": {},
   "outputs": [
    {
     "name": "stdout",
     "output_type": "stream",
     "text": [
      "14\n"
     ]
    }
   ],
   "source": [
    "print(len(dishes))"
   ]
  },
  {
   "cell_type": "code",
   "execution_count": 27,
   "metadata": {},
   "outputs": [],
   "source": [
    "dishes.sort()"
   ]
  },
  {
   "cell_type": "code",
   "execution_count": 28,
   "metadata": {},
   "outputs": [
    {
     "name": "stdout",
     "output_type": "stream",
     "text": [
      "['cauliflower', 'chicken', 'dosa', 'idli', 'juice', 'leipä', 'mashedpotato', 'mushroom', 'pickle', 'poori', 'prawns', 'puuro', 'shrimp', 'tuna']\n"
     ]
    }
   ],
   "source": [
    "print(dishes)"
   ]
  },
  {
   "cell_type": "code",
   "execution_count": 29,
   "metadata": {},
   "outputs": [
    {
     "name": "stdout",
     "output_type": "stream",
     "text": [
      "['tuna', 'shrimp', 'puuro', 'prawns', 'poori', 'pickle', 'mushroom', 'mashedpotato', 'leipä', 'juice', 'idli', 'dosa', 'chicken', 'cauliflower']\n"
     ]
    }
   ],
   "source": [
    "dishes.reverse()\n",
    "print(dishes)"
   ]
  },
  {
   "cell_type": "code",
   "execution_count": null,
   "metadata": {},
   "outputs": [],
   "source": [
    "tuple1=(0,1,2,3,4,5,6,7,8,9)\n",
    "tuple2=(0,1,2,3,4,5,6,7,8,9)\n",
    "tuple3= tuple1 "
   ]
  }
 ],
 "metadata": {
  "kernelspec": {
   "display_name": "Python 3",
   "language": "python",
   "name": "python3"
  },
  "language_info": {
   "codemirror_mode": {
    "name": "ipython",
    "version": 3
   },
   "file_extension": ".py",
   "mimetype": "text/x-python",
   "name": "python",
   "nbconvert_exporter": "python",
   "pygments_lexer": "ipython3",
   "version": "3.7.3"
  }
 },
 "nbformat": 4,
 "nbformat_minor": 2
}
